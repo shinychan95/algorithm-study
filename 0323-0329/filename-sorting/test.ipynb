{
 "cells": [
  {
   "cell_type": "code",
   "execution_count": 1,
   "metadata": {},
   "outputs": [
    {
     "data": {
      "text/plain": [
       "['a', 'a ', 'a!', 'a#', 'a-', 'a.', 'aA', 'aZ', 'aa', 'az']"
      ]
     },
     "execution_count": 1,
     "metadata": {},
     "output_type": "execute_result"
    }
   ],
   "source": [
    "sorted([\"aa\", \"aA\", \"az\", \"aZ\", \"a \", \"a-\", \"a.\", \"a\", \"a!\", \"a#\"])"
   ]
  },
  {
   "cell_type": "code",
   "execution_count": 2,
   "metadata": {},
   "outputs": [
    {
     "name": "stdout",
     "output_type": "stream",
     "text": [
      "foo 010\n"
     ]
    }
   ],
   "source": [
    "import re\n",
    "\n",
    "file = \"foo010bar020.zip\"\n",
    "\n",
    "p = re.compile(\"[0-9]{1,5}\")\n",
    "s = p.search(file)\n",
    "HEAD = file[:s.start()].lower()\n",
    "NUMBER = file[s.start():s.end()]\n",
    "print(HEAD, NUMBER)"
   ]
  },
  {
   "cell_type": "code",
   "execution_count": 3,
   "metadata": {},
   "outputs": [
    {
     "data": {
      "text/plain": [
       "[['foo', '9', '.txt'], ['foo', '010', 'bar', '020', '.zip'], ['F-', '15', '']]"
      ]
     },
     "execution_count": 3,
     "metadata": {},
     "output_type": "execute_result"
    }
   ],
   "source": [
    "files = [\"foo9.txt\", \"foo010bar020.zip\", \"F-15\"]\n",
    "[re.split(r\"([0-9]{1,5})\", s) for s in files]"
   ]
  },
  {
   "cell_type": "code",
   "execution_count": 4,
   "metadata": {},
   "outputs": [
    {
     "data": {
      "text/plain": [
       "[['foo', '.txt'], ['foo', 'bar', '.zip'], ['F-', '']]"
      ]
     },
     "execution_count": 4,
     "metadata": {},
     "output_type": "execute_result"
    }
   ],
   "source": [
    "files = [\"foo9.txt\", \"foo010bar020.zip\", \"F-15\"]\n",
    "[re.split(r\"[0-9]{1,5}\", s) for s in files]"
   ]
  },
  {
   "cell_type": "code",
   "execution_count": null,
   "metadata": {},
   "outputs": [],
   "source": []
  }
 ],
 "metadata": {
  "kernelspec": {
   "display_name": "Python 3",
   "language": "python",
   "name": "python3"
  },
  "language_info": {
   "codemirror_mode": {
    "name": "ipython",
    "version": 3
   },
   "file_extension": ".py",
   "mimetype": "text/x-python",
   "name": "python",
   "nbconvert_exporter": "python",
   "pygments_lexer": "ipython3",
   "version": "3.7.4"
  }
 },
 "nbformat": 4,
 "nbformat_minor": 2
}
